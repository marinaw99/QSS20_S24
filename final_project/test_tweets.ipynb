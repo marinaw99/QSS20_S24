{
 "cells": [
  {
   "cell_type": "code",
   "execution_count": 1,
   "id": "ba9d3071-3890-47de-abc3-d3055d04213c",
   "metadata": {},
   "outputs": [],
   "source": [
    "import pandas as pd"
   ]
  },
  {
   "cell_type": "code",
   "execution_count": 7,
   "id": "91a45446-baf2-4216-a811-c596d8eda50f",
   "metadata": {},
   "outputs": [
    {
     "data": {
      "text/plain": [
       "Index(['tweetid', 'userid', 'screen_name', 'date', 'lang', 'location',\n",
       "       'place_id', 'place_url', 'place_type', 'place_name', 'place_full_name',\n",
       "       'place_country_code', 'place_country', 'place_bounding_box', 'text',\n",
       "       'extended', 'coord', 'reply_userid', 'reply_screen', 'reply_statusid',\n",
       "       'tweet_type', 'friends_count', 'listed_count', 'followers_count',\n",
       "       'favourites_count', 'statuses_count', 'verified', 'hashtag',\n",
       "       'urls_list', 'profile_pic_url', 'profile_banner_url', 'display_name',\n",
       "       'date_first_tweet', 'account_creation_date', 'rt_urls_list',\n",
       "       'mentionid', 'mentionsn', 'rt_screen', 'rt_userid', 'rt_text',\n",
       "       'rt_hashtag', 'rt_qtd_count', 'rt_rt_count', 'rt_reply_count',\n",
       "       'rt_fav_count', 'rt_tweetid', 'rt_location', 'qtd_screen', 'qtd_userid',\n",
       "       'qtd_text', 'qtd_hashtag', 'qtd_qtd_count', 'qtd_rt_count',\n",
       "       'qtd_reply_count', 'qtd_fav_count', 'qtd_tweetid', 'qtd_urls_list',\n",
       "       'qtd_location', 'sent_vader', 'token', 'media_urls', 'rt_media_urls',\n",
       "       'q_media_urls', 'state', 'country', 'rt_state', 'rt_country',\n",
       "       'qtd_state', 'qtd_country', 'norm_country', 'norm_rt_country',\n",
       "       'norm_qtd_country', 'description', 'rt_user_description',\n",
       "       'qtd_user_description', 'acc_age'],\n",
       "      dtype='object')"
      ]
     },
     "execution_count": 7,
     "metadata": {},
     "output_type": "execute_result"
    }
   ],
   "source": [
    "tweet = pd.read_pickle(\"covid_sample-0.0001.pkl\")\n",
    "\n",
    "tweet.columns"
   ]
  },
  {
   "cell_type": "code",
   "execution_count": 11,
   "id": "a6396783-52a9-40ec-aada-155f5e88faa1",
   "metadata": {},
   "outputs": [
    {
     "data": {
      "text/plain": [
       "29075                           NaN\n",
       "17272     Malaysia--Pahang--Kuantan\n",
       "38446                    Outerspace\n",
       "16418               London, England\n",
       "53175                      Portugal\n",
       "                    ...            \n",
       "47554                    Denver, CO\n",
       "10511                           NaN\n",
       "161110                 21 white usa\n",
       "11663                            AZ\n",
       "9549                    Tallahassee\n",
       "Name: location, Length: 189969, dtype: object"
      ]
     },
     "execution_count": 11,
     "metadata": {},
     "output_type": "execute_result"
    }
   ],
   "source": [
    "tweet[\"location\"]"
   ]
  },
  {
   "cell_type": "code",
   "execution_count": 17,
   "id": "a53f460e-cf97-4374-993e-76544fdd2a44",
   "metadata": {},
   "outputs": [
    {
     "data": {
      "text/plain": [
       "33388    Kenapa aku single sampai corona pun tanak kat ...\n",
       "70821                                     Wake up people!!\n",
       "97467    RT @danielsgoldman: August 15 is a Saturday th...\n",
       "15268      RT @AdamParkhomenko: My god. This is monstrous.\n",
       "19599    Hopefully those trump supporting Republicans a...\n",
       "                               ...                        \n",
       "28358    RT @Lerato_Champ: They gave us the chinese flu...\n",
       "48074    RT @mexicindian: why? bc most of the custodial...\n",
       "96887    The idea that anyone would still think to go i...\n",
       "51650    RT @awgaffney: It looks increasingly likely th...\n",
       "53940    RT @michaelmina_lab: Important Reminder: there...\n",
       "Name: text, Length: 12587, dtype: object"
      ]
     },
     "execution_count": 17,
     "metadata": {},
     "output_type": "execute_result"
    }
   ],
   "source": [
    "tweet_us = tweet[tweet['qtd_country'] == \"United States\"]\n",
    "tweet_us.text"
   ]
  }
 ],
 "metadata": {
  "kernelspec": {
   "display_name": "Python 3 (ipykernel)",
   "language": "python",
   "name": "python3"
  },
  "language_info": {
   "codemirror_mode": {
    "name": "ipython",
    "version": 3
   },
   "file_extension": ".py",
   "mimetype": "text/x-python",
   "name": "python",
   "nbconvert_exporter": "python",
   "pygments_lexer": "ipython3",
   "version": "3.11.7"
  }
 },
 "nbformat": 4,
 "nbformat_minor": 5
}
