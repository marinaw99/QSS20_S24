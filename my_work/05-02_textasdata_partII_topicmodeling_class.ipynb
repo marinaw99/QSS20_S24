{
 "cells": [
  {
   "cell_type": "markdown",
   "metadata": {},
   "source": [
    "# Notebook for topic modeling "
   ]
  },
  {
   "cell_type": "markdown",
   "metadata": {},
   "source": [
    "# 0. Imports"
   ]
  },
  {
   "cell_type": "code",
   "execution_count": 15,
   "metadata": {},
   "outputs": [],
   "source": [
    "## load packages \n",
    "import pandas as pd\n",
    "import re\n",
    "import numpy as np\n",
    "\n",
    "## nltk imports\n",
    "#!pip install nltk # can install on terminal or by uncommenting this line\n",
    "#import nltk; nltk.download('punkt'); nltk.download('stopwords')\n",
    "from nltk.tokenize import word_tokenize, wordpunct_tokenize\n",
    "from nltk.corpus import stopwords\n",
    "from nltk.stem.porter import PorterStemmer\n",
    "\n",
    "## sklearn imports\n",
    "from sklearn.feature_extraction.text import CountVectorizer\n",
    "\n",
    "## lda\n",
    "#!pip install gensim # can install by uncommenting this line\n",
    "from gensim import corpora\n",
    "import gensim\n",
    "\n",
    "## visualizing LDA--likely need to install\n",
    "#!pip install pyLDAvis # can install by uncommenting this line\n",
    "import pyLDAvis.gensim_models as gensimvis\n",
    "import pyLDAvis\n",
    "pyLDAvis.enable_notebook()\n",
    "\n",
    "## print mult things\n",
    "from IPython.core.interactiveshell import InteractiveShell\n",
    "InteractiveShell.ast_node_interactivity = \"all\"\n",
    "\n",
    "## random\n",
    "import random\n",
    "import string; punctlist = [char for char in string.punctuation] # list of english punctuation marks"
   ]
  },
  {
   "cell_type": "markdown",
   "metadata": {},
   "source": [
    "# 0. Load data"
   ]
  },
  {
   "cell_type": "code",
   "execution_count": 16,
   "metadata": {},
   "outputs": [
    {
     "data": {
      "text/html": [
       "<div>\n",
       "<style scoped>\n",
       "    .dataframe tbody tr th:only-of-type {\n",
       "        vertical-align: middle;\n",
       "    }\n",
       "\n",
       "    .dataframe tbody tr th {\n",
       "        vertical-align: top;\n",
       "    }\n",
       "\n",
       "    .dataframe thead th {\n",
       "        text-align: right;\n",
       "    }\n",
       "</style>\n",
       "<table border=\"1\" class=\"dataframe\">\n",
       "  <thead>\n",
       "    <tr style=\"text-align: right;\">\n",
       "      <th></th>\n",
       "      <th>id</th>\n",
       "      <th>name</th>\n",
       "      <th>name_upper</th>\n",
       "      <th>neighbourhood_group</th>\n",
       "      <th>price</th>\n",
       "    </tr>\n",
       "  </thead>\n",
       "  <tbody>\n",
       "    <tr>\n",
       "      <th>0</th>\n",
       "      <td>2539</td>\n",
       "      <td>Clean &amp; quiet apt home by the park</td>\n",
       "      <td>CLEAN &amp; QUIET APT HOME BY THE PARK</td>\n",
       "      <td>Brooklyn</td>\n",
       "      <td>149</td>\n",
       "    </tr>\n",
       "    <tr>\n",
       "      <th>1</th>\n",
       "      <td>2595</td>\n",
       "      <td>Skylit Midtown Castle</td>\n",
       "      <td>SKYLIT MIDTOWN CASTLE</td>\n",
       "      <td>Manhattan</td>\n",
       "      <td>225</td>\n",
       "    </tr>\n",
       "    <tr>\n",
       "      <th>2</th>\n",
       "      <td>3647</td>\n",
       "      <td>THE VILLAGE OF HARLEM....NEW YORK !</td>\n",
       "      <td>THE VILLAGE OF HARLEM....NEW YORK !</td>\n",
       "      <td>Manhattan</td>\n",
       "      <td>150</td>\n",
       "    </tr>\n",
       "    <tr>\n",
       "      <th>3</th>\n",
       "      <td>3831</td>\n",
       "      <td>Cozy Entire Floor of Brownstone</td>\n",
       "      <td>COZY ENTIRE FLOOR OF BROWNSTONE</td>\n",
       "      <td>Brooklyn</td>\n",
       "      <td>89</td>\n",
       "    </tr>\n",
       "    <tr>\n",
       "      <th>4</th>\n",
       "      <td>5022</td>\n",
       "      <td>Entire Apt: Spacious Studio/Loft by central park</td>\n",
       "      <td>ENTIRE APT: SPACIOUS STUDIO/LOFT BY CENTRAL PARK</td>\n",
       "      <td>Manhattan</td>\n",
       "      <td>80</td>\n",
       "    </tr>\n",
       "  </tbody>\n",
       "</table>\n",
       "</div>"
      ],
      "text/plain": [
       "     id                                              name  \\\n",
       "0  2539                Clean & quiet apt home by the park   \n",
       "1  2595                             Skylit Midtown Castle   \n",
       "2  3647               THE VILLAGE OF HARLEM....NEW YORK !   \n",
       "3  3831                   Cozy Entire Floor of Brownstone   \n",
       "4  5022  Entire Apt: Spacious Studio/Loft by central park   \n",
       "\n",
       "                                         name_upper neighbourhood_group  price  \n",
       "0                CLEAN & QUIET APT HOME BY THE PARK            Brooklyn    149  \n",
       "1                             SKYLIT MIDTOWN CASTLE           Manhattan    225  \n",
       "2               THE VILLAGE OF HARLEM....NEW YORK !           Manhattan    150  \n",
       "3                   COZY ENTIRE FLOOR OF BROWNSTONE            Brooklyn     89  \n",
       "4  ENTIRE APT: SPACIOUS STUDIO/LOFT BY CENTRAL PARK           Manhattan     80  "
      ]
     },
     "execution_count": 16,
     "metadata": {},
     "output_type": "execute_result"
    }
   ],
   "source": [
    "ab = pd.read_csv(\"../public_data/airbnb_text.zip\")\n",
    "ab.head()"
   ]
  },
  {
   "cell_type": "markdown",
   "metadata": {},
   "source": [
    "# 1. Preprocess documents\n",
    "\n",
    "In this case, each name/name_upper, or listing title, we're treating as a document"
   ]
  },
  {
   "cell_type": "markdown",
   "metadata": {},
   "source": [
    "## 1.1 Load stopwords list and augment with our own custom ones"
   ]
  },
  {
   "cell_type": "code",
   "execution_count": 17,
   "metadata": {},
   "outputs": [],
   "source": [
    "list_stopwords = stopwords.words(\"english\")\n",
    "\n",
    "custom_words_toadd = ['apartment', 'new york', 'nyc',\n",
    "                      'bronx', 'brooklyn',\n",
    "                     'manhattan', 'queens', \n",
    "                      'staten island']\n",
    "\n",
    "list_stopwords_new = list_stopwords + custom_words_toadd\n"
   ]
  },
  {
   "cell_type": "markdown",
   "metadata": {},
   "source": [
    "## 1.2 Remove stopwords from lowercase version of corpus\n"
   ]
  },
  {
   "cell_type": "code",
   "execution_count": 22,
   "metadata": {},
   "outputs": [
    {
     "data": {
      "text/plain": [
       "['clean & quiet apt home by the park',\n",
       " 'skylit midtown castle',\n",
       " 'the village of harlem....new york !',\n",
       " 'cozy entire floor of brownstone',\n",
       " 'entire apt: spacious studio/loft by central park']"
      ]
     },
     "execution_count": 22,
     "metadata": {},
     "output_type": "execute_result"
    },
    {
     "data": {
      "text/plain": [
       "['cozy', 'entire', 'floor', 'brownstone']"
      ]
     },
     "execution_count": 22,
     "metadata": {},
     "output_type": "execute_result"
    }
   ],
   "source": [
    "## convert to lowercase and a list\n",
    "corpus_lower = ab.name.str.lower().to_list()\n",
    "corpus_lower[0:5]\n",
    "## use wordpunct tokenize and filter out with one\n",
    "example_listing = corpus_lower[3]\n",
    "nostop_listing = [word for word in wordpunct_tokenize(example_listing) \n",
    "                          if word not in list_stopwords_new]\n",
    "nostop_listing"
   ]
  },
  {
   "cell_type": "markdown",
   "metadata": {},
   "source": [
    "## 1.3 stem and remove non-alpha\n",
    "\n",
    "Other contexts we may want to leave digits in"
   ]
  },
  {
   "cell_type": "code",
   "execution_count": 19,
   "metadata": {},
   "outputs": [
    {
     "data": {
      "text/plain": [
       "['cozi', 'entir', 'floor', 'brownston']"
      ]
     },
     "execution_count": 19,
     "metadata": {},
     "output_type": "execute_result"
    }
   ],
   "source": [
    "## initialize stemmer\n",
    "porter = PorterStemmer()\n",
    "\n",
    "## apply to one by iterating\n",
    "## over the tokens in the list\n",
    "example_listing_preprocess = [porter.stem(token) \n",
    "                            for token in nostop_listing \n",
    "                            if token.isalpha() and \n",
    "                            len(token) > 2]\n",
    "\n",
    "example_listing_preprocess"
   ]
  },
  {
   "cell_type": "code",
   "execution_count": 20,
   "metadata": {},
   "outputs": [
    {
     "data": {
      "text/plain": [
       "'cozy entire floor of brownstone'"
      ]
     },
     "execution_count": 20,
     "metadata": {},
     "output_type": "execute_result"
    },
    {
     "data": {
      "text/plain": [
       "['cozi', 'entir', 'floor', 'brownston']"
      ]
     },
     "execution_count": 20,
     "metadata": {},
     "output_type": "execute_result"
    }
   ],
   "source": [
    "example_listing\n",
    "example_listing_preprocess"
   ]
  },
  {
   "cell_type": "markdown",
   "metadata": {},
   "source": [
    "## 1.4 Activity 1\n",
    "\n",
    "The above example performed preprocessing on a single Airbnb listing. We want to generalize this preprocessing across all listings.\n",
    "\n",
    "- Embed step two (remove stopwords) and step three (stem) into one or two functions that take in a raw string (eg the raw text of an Airbnb review) and return a preprocessed string \n",
    "- Apply the function iteratively to preprocess all the texts in `corpus_lower`. Output could either be a list where each list element is a string of a list (e.g., `cozy brownstone apt`), or a list of lists where each element is a tokenized string (e.g., `['cozy', 'brownstone', 'apt'])`\n",
    "\n",
    "Output is flexible: it could be a list of lists containing tokenized/stemmed text or a list of strings."
   ]
  },
  {
   "cell_type": "code",
   "execution_count": 42,
   "metadata": {},
   "outputs": [],
   "source": [
    "# your code here to define the function(s)\n",
    "# def stopwords_stem(raw_str, name):\n",
    "#     new_str = raw_str.name\n",
    "#     corpus_lower_str = new_str.name.str.lower().to_list()\n",
    "#     nostop_listing = [word for word in wordpunct_tokenize(corpus_lower_str)\n",
    "#                                 if word not in list_stopwords_new]\n",
    "\n",
    "#     return nostop_listing\n",
    "\n",
    "# # your code here to apply the function\n",
    "# test1 = corpus_lower[2]\n",
    "# test1\n",
    "\n",
    "# stopwords_stem(\"test1\")\n"
   ]
  },
  {
   "cell_type": "code",
   "execution_count": 41,
   "metadata": {},
   "outputs": [
    {
     "data": {
      "text/plain": [
       "['clean quiet apt home park',\n",
       " 'skylit midtown castl',\n",
       " 'villag harlem new york',\n",
       " 'cozi entir floor brownston',\n",
       " 'entir apt spaciou studio loft central park',\n",
       " 'larg cozi midtown east']"
      ]
     },
     "execution_count": 41,
     "metadata": {},
     "output_type": "execute_result"
    }
   ],
   "source": [
    "# ANS\n",
    "# your code here to define the function(s)\n",
    "# based on 1.2/1.3\n",
    "list_stopwords = stopwords.words(\"english\")\n",
    "custom_words_toadd = ['apartment', 'new york', 'nyc',\n",
    "                      'bronx', 'brooklyn',\n",
    "                     'manhattan', 'queens',\n",
    "                      'staten island']\n",
    "list_stopwords_new = list_stopwords + custom_words_toadd\n",
    "porter = PorterStemmer()\n",
    "corpus_lower = ab.name.str.lower().to_list()\n",
    "# defining function\n",
    "def process_string(text):\n",
    "    if pd.isna(text):\n",
    "        return (\"\")\n",
    "    lower_text = text.lower()\n",
    "    ## use wordpunct tokenize and filter out with one\n",
    "    nostop_listing = [word for word in wordpunct_tokenize(lower_text)\n",
    "                              if word not in list_stopwords_new]\n",
    "    ## apply to one by iterating\n",
    "    ## over the tokens in the list\n",
    "    text_preprocess = [porter.stem(token)\n",
    "                                for token in nostop_listing\n",
    "                                if token.isalpha() and\n",
    "                                len(token) > 2]\n",
    "    return \" \".join ( text_preprocess )\n",
    "# your code here to apply the function\n",
    "preprocessing = [process_string(text) for text in corpus_lower]\n",
    "preprocessing[:6]"
   ]
  },
  {
   "cell_type": "markdown",
   "metadata": {},
   "source": [
    "# 2. Create a document-term matrix and do some basic diagnostics (more manual approach)\n",
    "\n",
    "Here we'll create a DTM first using the raw documents; in the activity, you'll create one using the preprocessed docs\n",
    "that you created in activity 1"
   ]
  },
  {
   "cell_type": "markdown",
   "metadata": {},
   "source": [
    "## 2.1 Define the dtm function and select data to transform into a document-term matrix"
   ]
  },
  {
   "cell_type": "code",
   "execution_count": 50,
   "metadata": {},
   "outputs": [],
   "source": [
    "## function provided\n",
    "def create_dtm(list_of_strings, metadata):\n",
    "    \"\"\" \n",
    "    Function to create dense document-term matrix (DTM) from a list of strings and provided metadata. \n",
    "    A sparse DTM is a list of term_index/doc_index tuples: if a given term occurs in a given doc at least once, \n",
    "        then this count is listed as a tuple; if not, that term/doc pair is omitted. \n",
    "    In a dense DTM, each row is one text (e.g., an Airbnb listing), each column is a term, and \n",
    "        each cell indicates the frequency of that word in that text. \n",
    "    \n",
    "    Parameters:\n",
    "        list_of_strings (Series): each row contains a preprocessed string (need not be tokenized)\n",
    "        metadata (DataFrame): contains document-level covariates\n",
    "    \n",
    "    Returns:\n",
    "        Dense DTM with metadata on left and then one column per word in lexicon\n",
    "    \"\"\"\n",
    "    \n",
    "    # initialize a sklearn tokenizer; this helps us tokenize the preprocessed string input\n",
    "    vectorizer = CountVectorizer(lowercase = True) \n",
    "    dtm_sparse = vectorizer.fit_transform(list_of_strings)\n",
    "    print('Sparse matrix form:\\n', dtm_sparse[:3]) # take a look at sparse representation\n",
    "    print()\n",
    "    \n",
    "    # switch the dataframe from the sparse representation to the normal dense representation (so we can treat it as regular dataframe)\n",
    "    dtm_dense_named = pd.DataFrame(dtm_sparse.todense(), columns=vectorizer.get_feature_names_out ())\n",
    "    print('Dense matrix form:\\n', dtm_dense_named.head()) # take a look at dense representation\n",
    "    dtm_dense_named_withid = pd.concat([metadata.reset_index(), dtm_dense_named], axis = 1) # add back document-level covariates\n",
    "\n",
    "    return(dtm_dense_named_withid)"
   ]
  },
  {
   "cell_type": "code",
   "execution_count": 51,
   "metadata": {},
   "outputs": [
    {
     "data": {
      "text/html": [
       "<div>\n",
       "<style scoped>\n",
       "    .dataframe tbody tr th:only-of-type {\n",
       "        vertical-align: middle;\n",
       "    }\n",
       "\n",
       "    .dataframe tbody tr th {\n",
       "        vertical-align: top;\n",
       "    }\n",
       "\n",
       "    .dataframe thead th {\n",
       "        text-align: right;\n",
       "    }\n",
       "</style>\n",
       "<table border=\"1\" class=\"dataframe\">\n",
       "  <thead>\n",
       "    <tr style=\"text-align: right;\">\n",
       "      <th></th>\n",
       "      <th>id</th>\n",
       "      <th>neighbourhood_group</th>\n",
       "      <th>price_rawdata</th>\n",
       "      <th>name</th>\n",
       "      <th>name_lower</th>\n",
       "    </tr>\n",
       "  </thead>\n",
       "  <tbody>\n",
       "    <tr>\n",
       "      <th>23821</th>\n",
       "      <td>19227560</td>\n",
       "      <td>Queens</td>\n",
       "      <td>100</td>\n",
       "      <td>Super Cozy!</td>\n",
       "      <td>super cozy!</td>\n",
       "    </tr>\n",
       "    <tr>\n",
       "      <th>22905</th>\n",
       "      <td>18560625</td>\n",
       "      <td>Brooklyn</td>\n",
       "      <td>30</td>\n",
       "      <td>Beautiful Private Bedroom by Prospect Park</td>\n",
       "      <td>beautiful private bedroom by prospect park</td>\n",
       "    </tr>\n",
       "    <tr>\n",
       "      <th>20426</th>\n",
       "      <td>16289576</td>\n",
       "      <td>Manhattan</td>\n",
       "      <td>80</td>\n",
       "      <td>Best Location on the Upper West Side! - Part II</td>\n",
       "      <td>best location on the upper west side! - part ii</td>\n",
       "    </tr>\n",
       "    <tr>\n",
       "      <th>2018</th>\n",
       "      <td>893413</td>\n",
       "      <td>Manhattan</td>\n",
       "      <td>2500</td>\n",
       "      <td>Architecturally Stunning Former Synagogue!</td>\n",
       "      <td>architecturally stunning former synagogue!</td>\n",
       "    </tr>\n",
       "    <tr>\n",
       "      <th>18790</th>\n",
       "      <td>14882137</td>\n",
       "      <td>Queens</td>\n",
       "      <td>50</td>\n",
       "      <td>Large, beautiful room near Bushwick</td>\n",
       "      <td>large, beautiful room near bushwick</td>\n",
       "    </tr>\n",
       "  </tbody>\n",
       "</table>\n",
       "</div>"
      ],
      "text/plain": [
       "             id neighbourhood_group  price_rawdata  \\\n",
       "23821  19227560              Queens            100   \n",
       "22905  18560625            Brooklyn             30   \n",
       "20426  16289576           Manhattan             80   \n",
       "2018     893413           Manhattan           2500   \n",
       "18790  14882137              Queens             50   \n",
       "\n",
       "                                                  name  \\\n",
       "23821                                      Super Cozy!   \n",
       "22905       Beautiful Private Bedroom by Prospect Park   \n",
       "20426  Best Location on the Upper West Side! - Part II   \n",
       "2018        Architecturally Stunning Former Synagogue!   \n",
       "18790              Large, beautiful room near Bushwick   \n",
       "\n",
       "                                            name_lower  \n",
       "23821                                      super cozy!  \n",
       "22905       beautiful private bedroom by prospect park  \n",
       "20426  best location on the upper west side! - part ii  \n",
       "2018        architecturally stunning former synagogue!  \n",
       "18790              large, beautiful room near bushwick  "
      ]
     },
     "execution_count": 51,
     "metadata": {},
     "output_type": "execute_result"
    }
   ],
   "source": [
    "\n",
    "## filter out na's\n",
    "## for shorter runtime, random sampling of 1000\n",
    "## get metadata for those\n",
    "## and also renaming price col since it's likely to be corpus word\n",
    "ab_small = ab.loc[~ab.name.isnull(),\n",
    "           ['id', 'neighbourhood_group', 'price', 'name']].copy().rename(columns = {'price':\n",
    "            'price_rawdata'}).sample(n = 1000, random_state = 422)\n",
    "\n",
    "ab_small['name_lower'] = ab_small['name'].str.lower()\n",
    "ab_small.head()"
   ]
  },
  {
   "cell_type": "markdown",
   "metadata": {},
   "source": [
    "## 2.2 Execute the dtm function to create the document-term matrix"
   ]
  },
  {
   "cell_type": "code",
   "execution_count": 52,
   "metadata": {},
   "outputs": [
    {
     "name": "stdout",
     "output_type": "stream",
     "text": [
      "Sparse matrix form:\n",
      "   (0, 841)\t1\n",
      "  (0, 281)\t1\n",
      "  (1, 152)\t1\n",
      "  (1, 693)\t1\n",
      "  (1, 157)\t1\n",
      "  (1, 205)\t1\n",
      "  (1, 698)\t1\n",
      "  (1, 653)\t1\n",
      "  (2, 165)\t1\n",
      "  (2, 537)\t1\n",
      "  (2, 637)\t1\n",
      "  (2, 856)\t1\n",
      "  (2, 902)\t1\n",
      "  (2, 939)\t1\n",
      "  (2, 774)\t1\n",
      "  (2, 657)\t1\n",
      "  (2, 471)\t1\n",
      "\n",
      "Dense matrix form:\n",
      "    001  10  10m  10min  10mins  1100  12mins  14  15  15min  ...  yoga  york  \\\n",
      "0    0   0    0      0       0     0       0   0   0      0  ...     0     0   \n",
      "1    0   0    0      0       0     0       0   0   0      0  ...     0     0   \n",
      "2    0   0    0      0       0     0       0   0   0      0  ...     0     0   \n",
      "3    0   0    0      0       0     0       0   0   0      0  ...     0     0   \n",
      "4    0   0    0      0       0     0       0   0   0      0  ...     0     0   \n",
      "\n",
      "   you  your  yu  zen  ღღღsteps  法拉盛中心私人房間獨立衛浴  溫馨大套房  獨一無二的紐約閣樓  \n",
      "0    0     0   0    0         0              0      0          0  \n",
      "1    0     0   0    0         0              0      0          0  \n",
      "2    0     0   0    0         0              0      0          0  \n",
      "3    0     0   0    0         0              0      0          0  \n",
      "4    0     0   0    0         0              0      0          0  \n",
      "\n",
      "[5 rows x 970 columns]\n"
     ]
    }
   ],
   "source": [
    "## example application on raw lowercase texts; \n",
    "dtm_nopre = create_dtm(list_of_strings= ab_small.name_lower,\n",
    "                      metadata = ab_small[['id', 'neighbourhood_group', 'price_rawdata']])\n",
    "\n"
   ]
  },
  {
   "cell_type": "code",
   "execution_count": 46,
   "metadata": {},
   "outputs": [
    {
     "data": {
      "text/html": [
       "<div>\n",
       "<style scoped>\n",
       "    .dataframe tbody tr th:only-of-type {\n",
       "        vertical-align: middle;\n",
       "    }\n",
       "\n",
       "    .dataframe tbody tr th {\n",
       "        vertical-align: top;\n",
       "    }\n",
       "\n",
       "    .dataframe thead th {\n",
       "        text-align: right;\n",
       "    }\n",
       "</style>\n",
       "<table border=\"1\" class=\"dataframe\">\n",
       "  <thead>\n",
       "    <tr style=\"text-align: right;\">\n",
       "      <th></th>\n",
       "      <th>index</th>\n",
       "      <th>id</th>\n",
       "      <th>neighbourhood_group</th>\n",
       "      <th>price_rawdata</th>\n",
       "      <th>001</th>\n",
       "      <th>10</th>\n",
       "      <th>10m</th>\n",
       "      <th>10min</th>\n",
       "      <th>10mins</th>\n",
       "      <th>1100</th>\n",
       "      <th>...</th>\n",
       "      <th>yoga</th>\n",
       "      <th>york</th>\n",
       "      <th>you</th>\n",
       "      <th>your</th>\n",
       "      <th>yu</th>\n",
       "      <th>zen</th>\n",
       "      <th>ღღღsteps</th>\n",
       "      <th>法拉盛中心私人房間獨立衛浴</th>\n",
       "      <th>溫馨大套房</th>\n",
       "      <th>獨一無二的紐約閣樓</th>\n",
       "    </tr>\n",
       "  </thead>\n",
       "  <tbody>\n",
       "    <tr>\n",
       "      <th>0</th>\n",
       "      <td>23821</td>\n",
       "      <td>19227560</td>\n",
       "      <td>Queens</td>\n",
       "      <td>100</td>\n",
       "      <td>0</td>\n",
       "      <td>0</td>\n",
       "      <td>0</td>\n",
       "      <td>0</td>\n",
       "      <td>0</td>\n",
       "      <td>0</td>\n",
       "      <td>...</td>\n",
       "      <td>0</td>\n",
       "      <td>0</td>\n",
       "      <td>0</td>\n",
       "      <td>0</td>\n",
       "      <td>0</td>\n",
       "      <td>0</td>\n",
       "      <td>0</td>\n",
       "      <td>0</td>\n",
       "      <td>0</td>\n",
       "      <td>0</td>\n",
       "    </tr>\n",
       "    <tr>\n",
       "      <th>1</th>\n",
       "      <td>22905</td>\n",
       "      <td>18560625</td>\n",
       "      <td>Brooklyn</td>\n",
       "      <td>30</td>\n",
       "      <td>0</td>\n",
       "      <td>0</td>\n",
       "      <td>0</td>\n",
       "      <td>0</td>\n",
       "      <td>0</td>\n",
       "      <td>0</td>\n",
       "      <td>...</td>\n",
       "      <td>0</td>\n",
       "      <td>0</td>\n",
       "      <td>0</td>\n",
       "      <td>0</td>\n",
       "      <td>0</td>\n",
       "      <td>0</td>\n",
       "      <td>0</td>\n",
       "      <td>0</td>\n",
       "      <td>0</td>\n",
       "      <td>0</td>\n",
       "    </tr>\n",
       "    <tr>\n",
       "      <th>2</th>\n",
       "      <td>20426</td>\n",
       "      <td>16289576</td>\n",
       "      <td>Manhattan</td>\n",
       "      <td>80</td>\n",
       "      <td>0</td>\n",
       "      <td>0</td>\n",
       "      <td>0</td>\n",
       "      <td>0</td>\n",
       "      <td>0</td>\n",
       "      <td>0</td>\n",
       "      <td>...</td>\n",
       "      <td>0</td>\n",
       "      <td>0</td>\n",
       "      <td>0</td>\n",
       "      <td>0</td>\n",
       "      <td>0</td>\n",
       "      <td>0</td>\n",
       "      <td>0</td>\n",
       "      <td>0</td>\n",
       "      <td>0</td>\n",
       "      <td>0</td>\n",
       "    </tr>\n",
       "    <tr>\n",
       "      <th>3</th>\n",
       "      <td>2018</td>\n",
       "      <td>893413</td>\n",
       "      <td>Manhattan</td>\n",
       "      <td>2500</td>\n",
       "      <td>0</td>\n",
       "      <td>0</td>\n",
       "      <td>0</td>\n",
       "      <td>0</td>\n",
       "      <td>0</td>\n",
       "      <td>0</td>\n",
       "      <td>...</td>\n",
       "      <td>0</td>\n",
       "      <td>0</td>\n",
       "      <td>0</td>\n",
       "      <td>0</td>\n",
       "      <td>0</td>\n",
       "      <td>0</td>\n",
       "      <td>0</td>\n",
       "      <td>0</td>\n",
       "      <td>0</td>\n",
       "      <td>0</td>\n",
       "    </tr>\n",
       "    <tr>\n",
       "      <th>4</th>\n",
       "      <td>18790</td>\n",
       "      <td>14882137</td>\n",
       "      <td>Queens</td>\n",
       "      <td>50</td>\n",
       "      <td>0</td>\n",
       "      <td>0</td>\n",
       "      <td>0</td>\n",
       "      <td>0</td>\n",
       "      <td>0</td>\n",
       "      <td>0</td>\n",
       "      <td>...</td>\n",
       "      <td>0</td>\n",
       "      <td>0</td>\n",
       "      <td>0</td>\n",
       "      <td>0</td>\n",
       "      <td>0</td>\n",
       "      <td>0</td>\n",
       "      <td>0</td>\n",
       "      <td>0</td>\n",
       "      <td>0</td>\n",
       "      <td>0</td>\n",
       "    </tr>\n",
       "  </tbody>\n",
       "</table>\n",
       "<p>5 rows × 974 columns</p>\n",
       "</div>"
      ],
      "text/plain": [
       "   index        id neighbourhood_group  price_rawdata  001  10  10m  10min  \\\n",
       "0  23821  19227560              Queens            100    0   0    0      0   \n",
       "1  22905  18560625            Brooklyn             30    0   0    0      0   \n",
       "2  20426  16289576           Manhattan             80    0   0    0      0   \n",
       "3   2018    893413           Manhattan           2500    0   0    0      0   \n",
       "4  18790  14882137              Queens             50    0   0    0      0   \n",
       "\n",
       "   10mins  1100  ...  yoga  york  you  your  yu  zen  ღღღsteps  法拉盛中心私人房間獨立衛浴  \\\n",
       "0       0     0  ...     0     0    0     0   0    0         0              0   \n",
       "1       0     0  ...     0     0    0     0   0    0         0              0   \n",
       "2       0     0  ...     0     0    0     0   0    0         0              0   \n",
       "3       0     0  ...     0     0    0     0   0    0         0              0   \n",
       "4       0     0  ...     0     0    0     0   0    0         0              0   \n",
       "\n",
       "   溫馨大套房  獨一無二的紐約閣樓  \n",
       "0      0          0  \n",
       "1      0          0  \n",
       "2      0          0  \n",
       "3      0          0  \n",
       "4      0          0  \n",
       "\n",
       "[5 rows x 974 columns]"
      ]
     },
     "execution_count": 46,
     "metadata": {},
     "output_type": "execute_result"
    },
    {
     "data": {
      "text/plain": [
       "(1000, 974)"
      ]
     },
     "execution_count": 46,
     "metadata": {},
     "output_type": "execute_result"
    },
    {
     "data": {
      "text/html": [
       "<div>\n",
       "<style scoped>\n",
       "    .dataframe tbody tr th:only-of-type {\n",
       "        vertical-align: middle;\n",
       "    }\n",
       "\n",
       "    .dataframe tbody tr th {\n",
       "        vertical-align: top;\n",
       "    }\n",
       "\n",
       "    .dataframe thead th {\n",
       "        text-align: right;\n",
       "    }\n",
       "</style>\n",
       "<table border=\"1\" class=\"dataframe\">\n",
       "  <thead>\n",
       "    <tr style=\"text-align: right;\">\n",
       "      <th></th>\n",
       "      <th>inclusive</th>\n",
       "      <th>incredible</th>\n",
       "      <th>incredibly</th>\n",
       "      <th>indoor</th>\n",
       "      <th>inn</th>\n",
       "      <th>inq</th>\n",
       "      <th>insane</th>\n",
       "      <th>int</th>\n",
       "      <th>interior</th>\n",
       "      <th>international</th>\n",
       "      <th>interns</th>\n",
       "      <th>invincible</th>\n",
       "      <th>inviting</th>\n",
       "      <th>inwood</th>\n",
       "      <th>island</th>\n",
       "      <th>it</th>\n",
       "      <th>italy</th>\n",
       "      <th>its</th>\n",
       "      <th>jefferson</th>\n",
       "      <th>jewel</th>\n",
       "    </tr>\n",
       "  </thead>\n",
       "  <tbody>\n",
       "    <tr>\n",
       "      <th>0</th>\n",
       "      <td>0</td>\n",
       "      <td>0</td>\n",
       "      <td>0</td>\n",
       "      <td>0</td>\n",
       "      <td>0</td>\n",
       "      <td>0</td>\n",
       "      <td>0</td>\n",
       "      <td>0</td>\n",
       "      <td>0</td>\n",
       "      <td>0</td>\n",
       "      <td>0</td>\n",
       "      <td>0</td>\n",
       "      <td>0</td>\n",
       "      <td>0</td>\n",
       "      <td>0</td>\n",
       "      <td>0</td>\n",
       "      <td>0</td>\n",
       "      <td>0</td>\n",
       "      <td>0</td>\n",
       "      <td>0</td>\n",
       "    </tr>\n",
       "    <tr>\n",
       "      <th>1</th>\n",
       "      <td>0</td>\n",
       "      <td>0</td>\n",
       "      <td>0</td>\n",
       "      <td>0</td>\n",
       "      <td>0</td>\n",
       "      <td>0</td>\n",
       "      <td>0</td>\n",
       "      <td>0</td>\n",
       "      <td>0</td>\n",
       "      <td>0</td>\n",
       "      <td>0</td>\n",
       "      <td>0</td>\n",
       "      <td>0</td>\n",
       "      <td>0</td>\n",
       "      <td>0</td>\n",
       "      <td>0</td>\n",
       "      <td>0</td>\n",
       "      <td>0</td>\n",
       "      <td>0</td>\n",
       "      <td>0</td>\n",
       "    </tr>\n",
       "    <tr>\n",
       "      <th>2</th>\n",
       "      <td>0</td>\n",
       "      <td>0</td>\n",
       "      <td>0</td>\n",
       "      <td>0</td>\n",
       "      <td>0</td>\n",
       "      <td>0</td>\n",
       "      <td>0</td>\n",
       "      <td>0</td>\n",
       "      <td>0</td>\n",
       "      <td>0</td>\n",
       "      <td>0</td>\n",
       "      <td>0</td>\n",
       "      <td>0</td>\n",
       "      <td>0</td>\n",
       "      <td>0</td>\n",
       "      <td>0</td>\n",
       "      <td>0</td>\n",
       "      <td>0</td>\n",
       "      <td>0</td>\n",
       "      <td>0</td>\n",
       "    </tr>\n",
       "    <tr>\n",
       "      <th>3</th>\n",
       "      <td>0</td>\n",
       "      <td>0</td>\n",
       "      <td>0</td>\n",
       "      <td>0</td>\n",
       "      <td>0</td>\n",
       "      <td>0</td>\n",
       "      <td>0</td>\n",
       "      <td>0</td>\n",
       "      <td>0</td>\n",
       "      <td>0</td>\n",
       "      <td>0</td>\n",
       "      <td>0</td>\n",
       "      <td>0</td>\n",
       "      <td>0</td>\n",
       "      <td>0</td>\n",
       "      <td>0</td>\n",
       "      <td>0</td>\n",
       "      <td>0</td>\n",
       "      <td>0</td>\n",
       "      <td>0</td>\n",
       "    </tr>\n",
       "    <tr>\n",
       "      <th>4</th>\n",
       "      <td>0</td>\n",
       "      <td>0</td>\n",
       "      <td>0</td>\n",
       "      <td>0</td>\n",
       "      <td>0</td>\n",
       "      <td>0</td>\n",
       "      <td>0</td>\n",
       "      <td>0</td>\n",
       "      <td>0</td>\n",
       "      <td>0</td>\n",
       "      <td>0</td>\n",
       "      <td>0</td>\n",
       "      <td>0</td>\n",
       "      <td>0</td>\n",
       "      <td>0</td>\n",
       "      <td>0</td>\n",
       "      <td>0</td>\n",
       "      <td>0</td>\n",
       "      <td>0</td>\n",
       "      <td>0</td>\n",
       "    </tr>\n",
       "  </tbody>\n",
       "</table>\n",
       "</div>"
      ],
      "text/plain": [
       "   inclusive  incredible  incredibly  indoor  inn  inq  insane  int  interior  \\\n",
       "0          0           0           0       0    0    0       0    0         0   \n",
       "1          0           0           0       0    0    0       0    0         0   \n",
       "2          0           0           0       0    0    0       0    0         0   \n",
       "3          0           0           0       0    0    0       0    0         0   \n",
       "4          0           0           0       0    0    0       0    0         0   \n",
       "\n",
       "   international  interns  invincible  inviting  inwood  island  it  italy  \\\n",
       "0              0        0           0         0       0       0   0      0   \n",
       "1              0        0           0         0       0       0   0      0   \n",
       "2              0        0           0         0       0       0   0      0   \n",
       "3              0        0           0         0       0       0   0      0   \n",
       "4              0        0           0         0       0       0   0      0   \n",
       "\n",
       "   its  jefferson  jewel  \n",
       "0    0          0      0  \n",
       "1    0          0      0  \n",
       "2    0          0      0  \n",
       "3    0          0      0  \n",
       "4    0          0      0  "
      ]
     },
     "execution_count": 46,
     "metadata": {},
     "output_type": "execute_result"
    }
   ],
   "source": [
    "## show first set of rows/cols\n",
    "dtm_nopre.head()\n",
    "\n",
    "## show arbitrary later cols in resulting data\n",
    "dtm_nopre.shape\n",
    "dtm_nopre.iloc[0:5, 480:500]"
   ]
  },
  {
   "cell_type": "markdown",
   "metadata": {},
   "source": [
    "## 2.3 Use that matrix/column sums to get basic summary stats of top words"
   ]
  },
  {
   "cell_type": "code",
   "execution_count": 48,
   "metadata": {},
   "outputs": [
    {
     "data": {
      "text/plain": [
       "in           367\n",
       "room         244\n",
       "private      163\n",
       "bedroom      152\n",
       "apartment    130\n",
       "            ... \n",
       "gay            1\n",
       "gente          1\n",
       "geodesic       1\n",
       "george         1\n",
       "獨一無二的紐約閣樓      1\n",
       "Length: 970, dtype: int64"
      ]
     },
     "execution_count": 48,
     "metadata": {},
     "output_type": "execute_result"
    }
   ],
   "source": [
    "## summing each col\n",
    "top_terms = dtm_nopre[dtm_nopre.columns[4:]].sum(axis = 0)\n",
    "\n",
    "## sorting from most frequent to least frequent\n",
    "top_terms.sort_values(ascending = False)"
   ]
  },
  {
   "cell_type": "markdown",
   "metadata": {},
   "source": [
    "## 2.4 Activity 2: repeat the above but using the preprocessed text data\n",
    "\n",
    "- Stick with the same random sample of 1000 `ab_small`\n",
    "- Apply the preprocessing steps from activity 1 to create a new column in `ab_small` with the preprocessed text (if you got stuck on that, try just removing stopwords)\n",
    "- Use the `create_dtm` function to create a document-term matrix from the preprocessed data\n",
    "- Use colsums to summarize"
   ]
  },
  {
   "cell_type": "code",
   "execution_count": 82,
   "metadata": {},
   "outputs": [
    {
     "name": "stdout",
     "output_type": "stream",
     "text": [
      "Sparse matrix form:\n",
      "   (0, 646)\t1\n",
      "  (0, 170)\t1\n",
      "  (1, 60)\t1\n",
      "  (1, 516)\t1\n",
      "  (1, 65)\t1\n",
      "  (1, 519)\t1\n",
      "  (1, 480)\t1\n",
      "  (2, 70)\t1\n",
      "  (2, 388)\t1\n",
      "  (2, 697)\t1\n",
      "  (2, 729)\t1\n",
      "  (2, 584)\t1\n",
      "  (2, 482)\t1\n",
      "\n",
      "Dense matrix form:\n",
      "    abcd  abod  access  acidot  acogedor  across  address  ador  aesthet  \\\n",
      "0     0     0       0       0         0       0        0     0        0   \n",
      "1     0     0       0       0         0       0        0     0        0   \n",
      "2     0     0       0       0         0       0        0     0        0   \n",
      "3     0     0       0       0         0       0        0     0        0   \n",
      "4     0     0       0       0         0       0        0     0        0   \n",
      "\n",
      "   afford  ...  yard  year  yellow  yoga  york  zen  ღღღstep  法拉盛中心私人房間獨立衛浴  \\\n",
      "0       0  ...     0     0       0     0     0    0        0              0   \n",
      "1       0  ...     0     0       0     0     0    0        0              0   \n",
      "2       0  ...     0     0       0     0     0    0        0              0   \n",
      "3       0  ...     0     0       0     0     0    0        0              0   \n",
      "4       0  ...     0     0       0     0     0    0        0              0   \n",
      "\n",
      "   溫馨大套房  獨一無二的紐約閣樓  \n",
      "0      0          0  \n",
      "1      0          0  \n",
      "2      0          0  \n",
      "3      0          0  \n",
      "4      0          0  \n",
      "\n",
      "[5 rows x 753 columns]\n"
     ]
    },
    {
     "data": {
      "text/plain": [
       "room         246\n",
       "privat       165\n",
       "bedroom      159\n",
       "cozi          97\n",
       "apt           91\n",
       "            ... \n",
       "homey          1\n",
       "hipstest       1\n",
       "hillsid        1\n",
       "highclass      1\n",
       "獨一無二的紐約閣樓      1\n",
       "Length: 753, dtype: int64"
      ]
     },
     "execution_count": 82,
     "metadata": {},
     "output_type": "execute_result"
    }
   ],
   "source": [
    "ab_small[\"processed\"] = ab_small.name_lower.apply(process_string)\n",
    "\n",
    "metadata_list = ['id', 'neighbourhood_group', 'price_rawdata']\n",
    "dtm_pre = create_dtm(list_of_strings= ab_small.processed,\n",
    "                metadata = ab_small[metadata_list])\n",
    "dtm_pre_termsonly = dtm_pre[[col for col in dtm_pre.columns\n",
    "                             if col not in metadata_list and\n",
    "                             col != \"index\"]]\n",
    "dtm_pre_termsonly.sum().sort_values(ascending = False)"
   ]
  },
  {
   "cell_type": "code",
   "execution_count": 80,
   "metadata": {},
   "outputs": [],
   "source": [
    "# ## your code here \n",
    "# # Old stuff\n",
    "# list_stopwords = stopwords.words(\"english\")\n",
    "# custom_words_toadd = ['apartment', 'new york', 'nyc',\n",
    "#                       'bronx', 'brooklyn',\n",
    "#                      'manhattan', 'queens',\n",
    "#                       'staten island']\n",
    "# list_stopwords_new = list_stopwords + custom_words_toadd\n",
    "# porter = PorterStemmer()\n",
    "\n",
    "# # Reset index\n",
    "# ab_small_index = ab_small.reset_index()\n",
    "# ab_small_index.head()\n",
    "# # Define function for preprocessing steps\n",
    "# # Remove stopwords\n",
    "# ab_small_processed = []\n",
    "# def processing(col):\n",
    "#     if pd.isna(col):\n",
    "#         return (\"\")\n",
    "\n",
    "#     ## use wordpunct tokenize and filter out with one\n",
    "#     nostop_listing = [word for word in wordpunct_tokenize(col)\n",
    "#                               if word not in list_stopwords_new]\n",
    "\n",
    "#     ## apply to one by iterating\n",
    "#     ## over the tokens in the list\n",
    "#     text_preprocess = [porter.stem(token)\n",
    "#                                 for token in nostop_listing\n",
    "#                                 if token.isalpha() and\n",
    "#                                 len(token) > 2]\n",
    "\n",
    "#     ab_small_processed.append(text_preprocess)\n",
    "\n",
    "# preprocessing = [processing(col) for col in ab_small_index.name_lower]\n",
    "# #ab_small_processed\n",
    "\n",
    "# # DTM to create document-term matrix\n",
    "# dtm_process = create_dtm(list_of_strings= ab_small_processed,\n",
    "#                       metadata = ab_small[['id', 'neighbourhood_group', 'price_rawdata']])"
   ]
  },
  {
   "cell_type": "markdown",
   "metadata": {},
   "source": [
    "# 3. Use gensim to more automatically preprocess/estimate a topic model"
   ]
  },
  {
   "cell_type": "markdown",
   "metadata": {},
   "source": [
    "## 3.1 Creating the objects to feed the LDA modeling function\n",
    "\n",
    "Different outputs described below: \n",
    "- Tokenized and preprocessed text \n",
    "- Dictionary \n",
    "- Corpus "
   ]
  },
  {
   "cell_type": "code",
   "execution_count": 83,
   "metadata": {},
   "outputs": [
    {
     "data": {
      "text/plain": [
       "{0: '!', 1: 'cozy', 2: 'super', 3: 'beautiful', 4: 'bedroom'}"
      ]
     },
     "execution_count": 83,
     "metadata": {},
     "output_type": "execute_result"
    },
    {
     "name": "stdout",
     "output_type": "stream",
     "text": [
      "Filtering out very rare and very common words reduced the length of dictionary from 1047 to 31.\n"
     ]
    },
    {
     "data": {
      "text/plain": [
       "{0: '!', 1: 'cozy', 2: 'beautiful', 3: 'bedroom', 4: 'park'}"
      ]
     },
     "execution_count": 83,
     "metadata": {},
     "output_type": "execute_result"
    },
    {
     "name": "stdout",
     "output_type": "stream",
     "text": [
      "Sample of documents represented in dictionary format (with omitted words noted):\n"
     ]
    },
    {
     "data": {
      "text/plain": [
       "[([(0, 1), (1, 1)], {'super': 1}),\n",
       " ([(2, 1), (3, 1), (4, 1), (5, 1)], {'by': 1, 'prospect': 1}),\n",
       " ([(0, 1), (6, 1), (7, 1)],\n",
       "  {'best': 1,\n",
       "   'ii': 1,\n",
       "   'location': 1,\n",
       "   'on': 1,\n",
       "   'part': 1,\n",
       "   'side': 1,\n",
       "   'upper': 1,\n",
       "   'west': 1}),\n",
       " ([(0, 1)],\n",
       "  {'architecturally': 1, 'former': 1, 'stunning': 1, 'synagogue': 1}),\n",
       " ([(2, 1), (8, 1), (9, 1), (10, 1), (11, 1)], {'bushwick': 1}),\n",
       " ([(4, 1), (8, 1), (9, 1), (12, 1), (13, 2)],\n",
       "  {'bath': 1, 'bed': 1, 'by': 1, 'central': 1, 'college': 1, 'hunter': 1}),\n",
       " ([(9, 1), (11, 1), (14, 1), (15, 1)], {'bohemian': 1, 'brownstone': 1}),\n",
       " ([(16, 1)],\n",
       "  {'fidi': 1, 'huge': 1, 'loft': 1, 'views': 1, 'w': 1, 'water': 1}),\n",
       " ([], {'hillside': 1, 'hotel': 1}),\n",
       " ([(5, 1), (9, 1), (11, 1), (14, 1), (15, 1)], {'airy': 1})]"
      ]
     },
     "execution_count": 83,
     "metadata": {},
     "output_type": "execute_result"
    }
   ],
   "source": [
    "\n",
    "## Step 1: re-tokenize and store in list\n",
    "## here, i'm doing with the raw random sample of text\n",
    "## in activity, you should do with the preprocessed texts\n",
    "text_raw_tokens = [wordpunct_tokenize(one_text) for one_text in \n",
    "                  ab_small.name_lower]\n",
    "\n",
    "\n",
    "## Step 2: use gensim create dictionary - gets all unique words across documents\n",
    "text_raw_dict = corpora.Dictionary(text_raw_tokens)\n",
    "raw_len = len(text_raw_dict) # get length for comparison below\n",
    "\n",
    "### explore first few keys and values\n",
    "### see that key is just an arbitrary counter; value is the word itself\n",
    "{k: text_raw_dict[k] for k in list(text_raw_dict)[:5]}\n",
    "\n",
    "\n",
    "## Step 3: filter out very rare and very common words\n",
    "## here, i'm using the threshold that a word needs to appear in at least\n",
    "## 5% of docs but not more than 95%\n",
    "## this is an integer count of docs so i round\n",
    "lower_bound = round(ab_small.shape[0]*0.05)\n",
    "upper_bound = round(ab_small.shape[0]*0.95)\n",
    "\n",
    "### apply filtering to dictionary\n",
    "text_raw_dict.filter_extremes(no_below = lower_bound,\n",
    "                             no_above = upper_bound)\n",
    "print(f'Filtering out very rare and very common words reduced the \\\n",
    "length of dictionary from {str(raw_len)} to {str(len(text_raw_dict))}.')\n",
    "{k: text_raw_dict[k] for k in list(text_raw_dict)[:5]} # show first five entries after filtering\n",
    "\n",
    "\n",
    "## Step 4: apply dictionary to TOKENIZED texts\n",
    "## this creates a mapping between each word \n",
    "## in a specific listing and the key in the dictionary.\n",
    "## for words that remain in the filtered dictionary,\n",
    "## output is a list where len(list) == n documents\n",
    "## and each element in the list is a list of tuples\n",
    "## containing the mappings\n",
    "corpus_fromdict = [text_raw_dict.doc2bow(one_text) \n",
    "                   for one_text in text_raw_tokens]\n",
    "\n",
    "### can apply doc2bow(one_text, return_missing = True) to print words\n",
    "### eliminated from the listing bc they're not in filtered dictionary.\n",
    "### but feeding that one with missing values to\n",
    "### the lda function can cause errors\n",
    "corpus_fromdict_showmiss = [text_raw_dict.doc2bow(one_text, return_missing = True)\n",
    "                            for one_text in text_raw_tokens]\n",
    "print('Sample of documents represented in dictionary format (with omitted words noted):')\n",
    "corpus_fromdict_showmiss[:10]"
   ]
  },
  {
   "cell_type": "markdown",
   "metadata": {},
   "source": [
    "##  3.2 Estimating the model"
   ]
  },
  {
   "cell_type": "code",
   "execution_count": 84,
   "metadata": {},
   "outputs": [
    {
     "name": "stdout",
     "output_type": "stream",
     "text": [
      "<class 'gensim.models.ldamodel.LdaModel'>\n"
     ]
    }
   ],
   "source": [
    "## Step 5: we're finally ready to estimate the model!\n",
    "## full documentation here - https://radimrehurek.com/gensim/models/ldamodel.html\n",
    "## here, we're feeding the lda function:\n",
    "## (1) the corpus we created from the dictionary,\n",
    "## (2) a parameter we decide on for the number of topics (k),\n",
    "## (3) the dictionary itself,\n",
    "## (4) parameter for number of passes through training data (more means slower), and\n",
    "## (5) parameter that returns, for each word remaining in dict, the topic probabilities.\n",
    "## see documentation for many other arguments you can vary\n",
    "ldamod = gensim.models.ldamodel.LdaModel(corpus_fromdict, \n",
    "                                         num_topics = 5, \n",
    "                                         id2word=text_raw_dict, \n",
    "                                         passes=6, \n",
    "                                         alpha = 'auto',\n",
    "                                         per_word_topics = True)\n",
    "\n",
    "print(type(ldamod))\n",
    "\n"
   ]
  },
  {
   "cell_type": "markdown",
   "metadata": {},
   "source": [
    "## 3.3  Seeing what topics the estimated model discovers"
   ]
  },
  {
   "cell_type": "code",
   "execution_count": 85,
   "metadata": {},
   "outputs": [
    {
     "name": "stdout",
     "output_type": "stream",
     "text": [
      "(0, '0.120*\"-\" + 0.112*\"in\" + 0.108*\"spacious\" + 0.099*\"room\" + 0.067*\"apt\" + 0.064*\"manhattan\" + 0.064*\"private\" + 0.055*\"1\" + 0.047*\"sunny\" + 0.043*\"to\"')\n",
      "(1, '0.337*\",\" + 0.105*\"cozy\" + 0.076*\"brooklyn\" + 0.066*\"in\" + 0.063*\"room\" + 0.055*\"to\" + 0.045*\"apartment\" + 0.032*\"!\" + 0.030*\"sunny\" + 0.025*\"and\"')\n",
      "(2, '0.200*\"in\" + 0.122*\"studio\" + 0.095*\"williamsburg\" + 0.070*\"the\" + 0.058*\"east\" + 0.055*\"of\" + 0.054*\"room\" + 0.053*\"bedroom\" + 0.033*\"-\" + 0.031*\"cozy\"')\n",
      "(3, '0.117*\".\" + 0.101*\"room\" + 0.101*\"private\" + 0.092*\"with\" + 0.087*\"beautiful\" + 0.068*\"near\" + 0.051*\"in\" + 0.049*\"and\" + 0.044*\"park\" + 0.032*\"!\"')\n",
      "(4, '0.127*\"/\" + 0.114*\"in\" + 0.108*\"bedroom\" + 0.102*\"2\" + 0.097*\"apartment\" + 0.080*\"!\" + 0.068*\"private\" + 0.060*\"room\" + 0.036*\"brooklyn\" + 0.033*\"large\"')\n"
     ]
    }
   ],
   "source": [
    "## Post-model 1: explore corpus-wide summary of topics\n",
    "### getting the topics and top words; can retrieve diff top words\n",
    "topics = ldamod.print_topics(num_words = 10)\n",
    "for topic in topics:\n",
    "    print(topic)\n"
   ]
  },
  {
   "cell_type": "code",
   "execution_count": 86,
   "metadata": {},
   "outputs": [
    {
     "data": {
      "text/plain": [
       "[['super', 'cozy', '!'],\n",
       " ['beautiful', 'private', 'bedroom', 'by', 'prospect', 'park'],\n",
       " ['best',\n",
       "  'location',\n",
       "  'on',\n",
       "  'the',\n",
       "  'upper',\n",
       "  'west',\n",
       "  'side',\n",
       "  '!',\n",
       "  '-',\n",
       "  'part',\n",
       "  'ii'],\n",
       " ['architecturally', 'stunning', 'former', 'synagogue', '!'],\n",
       " ['large', ',', 'beautiful', 'room', 'near', 'bushwick']]"
      ]
     },
     "execution_count": 86,
     "metadata": {},
     "output_type": "execute_result"
    },
    {
     "data": {
      "text/plain": [
       "[[(0, 0.053946923),\n",
       "  (1, 0.77236414),\n",
       "  (2, 0.062055044),\n",
       "  (3, 0.050026957),\n",
       "  (4, 0.0616069)],\n",
       " [(0, 0.031334203),\n",
       "  (1, 0.029478388),\n",
       "  (2, 0.036092274),\n",
       "  (3, 0.6954615),\n",
       "  (4, 0.20763363)],\n",
       " [(0, 0.40853542),\n",
       "  (1, 0.03737773),\n",
       "  (2, 0.4719945),\n",
       "  (3, 0.03674341),\n",
       "  (4, 0.04534895)],\n",
       " [(0, 0.0844926),\n",
       "  (1, 0.07971019),\n",
       "  (2, 0.09697747),\n",
       "  (3, 0.07833866),\n",
       "  (4, 0.66048104)],\n",
       " [(0, 0.026026217),\n",
       "  (1, 0.4659409),\n",
       "  (2, 0.029788489),\n",
       "  (3, 0.44875222),\n",
       "  (4, 0.029492166)]]"
      ]
     },
     "execution_count": 86,
     "metadata": {},
     "output_type": "execute_result"
    }
   ],
   "source": [
    "    \n",
    "## Post-model 2: explore topics associated with each document\n",
    "### for each item in our original dictionary, get list of topic probabilities\n",
    "l=[ldamod.get_document_topics(item) for item in corpus_fromdict]\n",
    "### print result\n",
    "text_raw_tokens[0:5]\n",
    "l[0:5]"
   ]
  },
  {
   "cell_type": "markdown",
   "metadata": {},
   "source": [
    "### Visualizing "
   ]
  },
  {
   "cell_type": "code",
   "execution_count": 87,
   "metadata": {},
   "outputs": [
    {
     "data": {
      "text/html": [
       "\n",
       "<link rel=\"stylesheet\" type=\"text/css\" href=\"https://cdn.jsdelivr.net/gh/bmabey/pyLDAvis@3.4.0/pyLDAvis/js/ldavis.v1.0.0.css\">\n",
       "\n",
       "\n",
       "<div id=\"ldavis_el963854586980642504402512\" style=\"background-color:white;\"></div>\n",
       "<script type=\"text/javascript\">\n",
       "\n",
       "var ldavis_el963854586980642504402512_data = {\"mdsDat\": {\"x\": [0.06910164454329039, 0.07901934271880365, 0.11427146481197675, -0.09896062192084881, -0.1634318301532219], \"y\": [-0.0021619938191032428, 0.0036425195338430283, 0.03500892949295867, -0.1566977345165867, 0.12020827930888824], \"topics\": [1, 2, 3, 4, 5], \"cluster\": [1, 1, 1, 1, 1], \"Freq\": [23.530378769424004, 21.48848558205248, 19.520082425330646, 17.96941457004613, 17.49163865314674]}, \"tinfo\": {\"Term\": [\",\", \"studio\", \"/\", \".\", \"williamsburg\", \"spacious\", \"2\", \"with\", \"beautiful\", \"cozy\", \"-\", \"private\", \"bedroom\", \"near\", \"east\", \"the\", \"apartment\", \"brooklyn\", \"of\", \"in\", \"and\", \"manhattan\", \"to\", \"sunny\", \"1\", \"large\", \"apt\", \"!\", \"park\", \"&\", \"spacious\", \"-\", \"manhattan\", \"apt\", \"sunny\", \"1\", \"large\", \"to\", \"room\", \"private\", \"park\", \"&\", \"in\", \"bedroom\", \"!\", \"and\", \"with\", \"brooklyn\", \"/\", \"cozy\", \"apartment\", \",\", \"east\", \"beautiful\", \"2\", \"of\", \"near\", \".\", \"studio\", \"williamsburg\", \"/\", \"2\", \"apartment\", \"bedroom\", \"!\", \"large\", \"private\", \"brooklyn\", \"1\", \"in\", \"the\", \"near\", \"room\", \"park\", \"to\", \"apt\", \"-\", \"cozy\", \"sunny\", \"&\", \".\", \"east\", \",\", \"with\", \"williamsburg\", \"of\", \"manhattan\", \"beautiful\", \"and\", \"spacious\", \"williamsburg\", \"studio\", \"east\", \"of\", \"the\", \"in\", \"&\", \"bedroom\", \"cozy\", \"sunny\", \"1\", \"-\", \"room\", \"manhattan\", \"to\", \"apartment\", \"large\", \"apt\", \"and\", \"!\", \"spacious\", \"private\", \"2\", \"beautiful\", \"park\", \"/\", \"near\", \".\", \"with\", \",\", \".\", \"beautiful\", \"with\", \"near\", \"and\", \"private\", \"park\", \"&\", \"room\", \"of\", \"east\", \"brooklyn\", \"apt\", \"apartment\", \"!\", \"manhattan\", \"the\", \"cozy\", \"in\", \",\", \"bedroom\", \"sunny\", \"spacious\", \"to\", \"1\", \"2\", \"-\", \"large\", \"williamsburg\", \"/\", \"studio\", \",\", \"cozy\", \"brooklyn\", \"to\", \"and\", \"sunny\", \"apartment\", \"park\", \"of\", \"room\", \"!\", \"manhattan\", \"&\", \"large\", \"in\", \"1\", \"beautiful\", \"near\", \"apt\", \"-\", \"2\", \"the\", \".\", \"/\", \"studio\", \"with\", \"spacious\", \"east\", \"williamsburg\", \"bedroom\"], \"Freq\": [212.0, 79.0, 95.0, 73.0, 62.0, 93.0, 80.0, 67.0, 60.0, 95.0, 136.0, 165.0, 148.0, 56.0, 48.0, 71.0, 127.0, 95.0, 55.0, 358.0, 58.0, 81.0, 89.0, 69.0, 85.0, 65.0, 94.0, 129.0, 72.0, 60.0, 82.2991097931227, 91.29733297410168, 48.786354938454096, 51.238174365997494, 35.94035852230696, 42.172076644475666, 28.170356185192613, 32.642912493422536, 75.1365542141469, 48.47008785821699, 19.679809355145803, 15.100892795795849, 85.60939764192159, 32.04436103083828, 26.438272071126537, 10.443556100144194, 10.94592238835361, 12.960221323725953, 2.1807675562338016, 1.7686959353787133, 1.869110669471406, 2.981240346912987, 0.5784758267730772, 0.5979138344971522, 0.7008660382431025, 0.406846380013813, 0.32005482974696325, 0.4091543603402356, 0.41236020157634523, 0.2753688703205411, 88.59909384255513, 70.95119753648373, 67.73098536250684, 75.04244033695188, 55.89751199853722, 22.670264146342266, 47.361320590710804, 24.71043797517507, 20.518193415370785, 79.11498352535627, 14.968059360909075, 9.945998124787767, 41.882858011105824, 12.031542237424633, 12.515185975396797, 12.735902070367473, 15.502249353370589, 4.923479899394934, 3.138457765618628, 2.2996868544795723, 2.1319366263433306, 1.3828383539828393, 4.3109528708297455, 1.3234948939636968, 0.8746512941505092, 0.752543031560779, 0.8529686927195039, 0.6399143388891662, 0.3666329719348372, 0.5794350498614704, 60.29386695930521, 77.02326622113178, 36.56408418605804, 34.912231104569074, 44.520832699836966, 126.19186767632817, 17.52129709772876, 33.706631600719405, 19.770888315866145, 11.613753774316347, 13.244968231394138, 20.965836994085297, 34.387236316922326, 10.519675857677273, 10.487538486975035, 13.84590491320094, 6.6151307593020094, 9.447085663777509, 5.0279963998967165, 10.299735837340169, 6.121461340558272, 10.643212009580752, 4.884032131662712, 3.4031083730806597, 2.4761220551088488, 2.4255468262931985, 1.1563927247667283, 1.344944223776628, 1.0231787214698675, 1.3896312618802753, 68.22444660036795, 50.62245313402629, 53.41576423815526, 39.846137589682584, 28.686095514959565, 58.84520290791206, 25.449171416283175, 18.67141350676092, 58.931363961971144, 11.437681533458004, 9.770118871363888, 14.725129686734139, 14.139979088712256, 18.451648396381287, 18.79399212244807, 11.273607365589502, 9.78142618166934, 9.754838282796738, 29.67944326735067, 12.235212256451973, 7.514174951160615, 2.301217068047076, 2.9404421944223325, 2.799716050369112, 1.0865070341442644, 0.6536207390321732, 0.9993052305268708, 0.3015647394423287, 0.20949885453959505, 0.2726854637345482, 0.21550989468876275, 191.20989346501887, 59.656399762362454, 43.09012925846745, 30.948047652677875, 14.302196720751772, 16.941425881294283, 25.437613507765388, 12.469641321215684, 8.280801479466154, 35.6227200398958, 18.326168173784623, 9.788357823275877, 6.979498808298475, 7.392255729522797, 37.602016594687875, 8.449014607897787, 5.731999011283607, 5.26765848948923, 6.5306462412056465, 8.217648741336527, 3.477819093796654, 1.6993848700750065, 1.5111108222905243, 1.8065107255314834, 1.462700872643413, 1.2428466303700858, 1.648200300804753, 0.31588363088263083, 0.34952134287774483, 0.49528754265048014], \"Total\": [212.0, 79.0, 95.0, 73.0, 62.0, 93.0, 80.0, 67.0, 60.0, 95.0, 136.0, 165.0, 148.0, 56.0, 48.0, 71.0, 127.0, 95.0, 55.0, 358.0, 58.0, 81.0, 89.0, 69.0, 85.0, 65.0, 94.0, 129.0, 72.0, 60.0, 93.58864867876953, 136.98237329342095, 81.22096467771625, 94.09178743006038, 69.93521301158329, 85.47075993328264, 65.14957155980201, 89.39340065884136, 245.960732544042, 165.62062249292578, 72.10628638517815, 60.572789063063574, 358.1977087056446, 148.8028954623207, 129.75568020323664, 58.82647770768708, 67.95120687231253, 95.91392209602506, 95.28460441434817, 95.87430219579898, 127.33526284932587, 212.12693020109384, 48.61140086906047, 60.99538869177687, 80.66753553921838, 55.79010352906783, 56.536241758473274, 73.62159263311867, 79.37068280415055, 62.002907321193604, 95.28460441434817, 80.66753553921838, 127.33526284932587, 148.8028954623207, 129.75568020323664, 65.14957155980201, 165.62062249292578, 95.91392209602506, 85.47075993328264, 358.1977087056446, 71.24205756752598, 56.536241758473274, 245.960732544042, 72.10628638517815, 89.39340065884136, 94.09178743006038, 136.98237329342095, 95.87430219579898, 69.93521301158329, 60.572789063063574, 73.62159263311867, 48.61140086906047, 212.12693020109384, 67.95120687231253, 62.002907321193604, 55.79010352906783, 81.22096467771625, 60.99538869177687, 58.82647770768708, 93.58864867876953, 62.002907321193604, 79.37068280415055, 48.61140086906047, 55.79010352906783, 71.24205756752598, 358.1977087056446, 60.572789063063574, 148.8028954623207, 95.87430219579898, 69.93521301158329, 85.47075993328264, 136.98237329342095, 245.960732544042, 81.22096467771625, 89.39340065884136, 127.33526284932587, 65.14957155980201, 94.09178743006038, 58.82647770768708, 129.75568020323664, 93.58864867876953, 165.62062249292578, 80.66753553921838, 60.99538869177687, 72.10628638517815, 95.28460441434817, 56.536241758473274, 73.62159263311867, 67.95120687231253, 212.12693020109384, 73.62159263311867, 60.99538869177687, 67.95120687231253, 56.536241758473274, 58.82647770768708, 165.62062249292578, 72.10628638517815, 60.572789063063574, 245.960732544042, 55.79010352906783, 48.61140086906047, 95.91392209602506, 94.09178743006038, 127.33526284932587, 129.75568020323664, 81.22096467771625, 71.24205756752598, 95.87430219579898, 358.1977087056446, 212.12693020109384, 148.8028954623207, 69.93521301158329, 93.58864867876953, 89.39340065884136, 85.47075993328264, 80.66753553921838, 136.98237329342095, 65.14957155980201, 62.002907321193604, 95.28460441434817, 79.37068280415055, 212.12693020109384, 95.87430219579898, 95.91392209602506, 89.39340065884136, 58.82647770768708, 69.93521301158329, 127.33526284932587, 72.10628638517815, 55.79010352906783, 245.960732544042, 129.75568020323664, 81.22096467771625, 60.572789063063574, 65.14957155980201, 358.1977087056446, 85.47075993328264, 60.99538869177687, 56.536241758473274, 94.09178743006038, 136.98237329342095, 80.66753553921838, 71.24205756752598, 73.62159263311867, 95.28460441434817, 79.37068280415055, 67.95120687231253, 93.58864867876953, 48.61140086906047, 62.002907321193604, 148.8028954623207], \"Category\": [\"Default\", \"Default\", \"Default\", \"Default\", \"Default\", \"Default\", \"Default\", \"Default\", \"Default\", \"Default\", \"Default\", \"Default\", \"Default\", \"Default\", \"Default\", \"Default\", \"Default\", \"Default\", \"Default\", \"Default\", \"Default\", \"Default\", \"Default\", \"Default\", \"Default\", \"Default\", \"Default\", \"Default\", \"Default\", \"Default\", \"Topic1\", \"Topic1\", \"Topic1\", \"Topic1\", \"Topic1\", \"Topic1\", \"Topic1\", \"Topic1\", \"Topic1\", \"Topic1\", \"Topic1\", \"Topic1\", \"Topic1\", \"Topic1\", \"Topic1\", \"Topic1\", \"Topic1\", \"Topic1\", \"Topic1\", \"Topic1\", \"Topic1\", \"Topic1\", \"Topic1\", \"Topic1\", \"Topic1\", \"Topic1\", \"Topic1\", \"Topic1\", \"Topic1\", \"Topic1\", \"Topic2\", \"Topic2\", \"Topic2\", \"Topic2\", \"Topic2\", \"Topic2\", \"Topic2\", \"Topic2\", \"Topic2\", \"Topic2\", \"Topic2\", \"Topic2\", \"Topic2\", \"Topic2\", \"Topic2\", \"Topic2\", \"Topic2\", \"Topic2\", \"Topic2\", \"Topic2\", \"Topic2\", \"Topic2\", \"Topic2\", \"Topic2\", \"Topic2\", \"Topic2\", \"Topic2\", \"Topic2\", \"Topic2\", \"Topic2\", \"Topic3\", \"Topic3\", \"Topic3\", \"Topic3\", \"Topic3\", \"Topic3\", \"Topic3\", \"Topic3\", \"Topic3\", \"Topic3\", \"Topic3\", \"Topic3\", \"Topic3\", \"Topic3\", \"Topic3\", \"Topic3\", \"Topic3\", \"Topic3\", \"Topic3\", \"Topic3\", \"Topic3\", \"Topic3\", \"Topic3\", \"Topic3\", \"Topic3\", \"Topic3\", \"Topic3\", \"Topic3\", \"Topic3\", \"Topic3\", \"Topic4\", \"Topic4\", \"Topic4\", \"Topic4\", \"Topic4\", \"Topic4\", \"Topic4\", \"Topic4\", \"Topic4\", \"Topic4\", \"Topic4\", \"Topic4\", \"Topic4\", \"Topic4\", \"Topic4\", \"Topic4\", \"Topic4\", \"Topic4\", \"Topic4\", \"Topic4\", \"Topic4\", \"Topic4\", \"Topic4\", \"Topic4\", \"Topic4\", \"Topic4\", \"Topic4\", \"Topic4\", \"Topic4\", \"Topic4\", \"Topic4\", \"Topic5\", \"Topic5\", \"Topic5\", \"Topic5\", \"Topic5\", \"Topic5\", \"Topic5\", \"Topic5\", \"Topic5\", \"Topic5\", \"Topic5\", \"Topic5\", \"Topic5\", \"Topic5\", \"Topic5\", \"Topic5\", \"Topic5\", \"Topic5\", \"Topic5\", \"Topic5\", \"Topic5\", \"Topic5\", \"Topic5\", \"Topic5\", \"Topic5\", \"Topic5\", \"Topic5\", \"Topic5\", \"Topic5\", \"Topic5\"], \"logprob\": [30.0, 29.0, 28.0, 27.0, 26.0, 25.0, 24.0, 23.0, 22.0, 21.0, 20.0, 19.0, 18.0, 17.0, 16.0, 15.0, 14.0, 13.0, 12.0, 11.0, 10.0, 9.0, 8.0, 7.0, 6.0, 5.0, 4.0, 3.0, 2.0, 1.0, -2.2258, -2.122, -2.7487, -2.6997, -3.0543, -2.8944, -3.2979, -3.1505, -2.3168, -2.7552, -3.6565, -3.9214, -2.1863, -3.169, -3.3613, -4.2902, -4.2432, -4.0743, -5.8565, -6.0659, -6.0107, -5.5438, -7.1835, -7.1505, -6.9916, -7.5355, -7.7754, -7.5298, -7.522, -7.9258, -2.0612, -2.2834, -2.3298, -2.2273, -2.5218, -3.4243, -2.6876, -3.3381, -3.5241, -2.1745, -3.8394, -4.2482, -2.8105, -4.0578, -4.0184, -4.0009, -3.8044, -4.9514, -5.4016, -5.7126, -5.7883, -6.2212, -5.0842, -6.2651, -6.6793, -6.8297, -6.7044, -6.9918, -7.5488, -7.0911, -2.3501, -2.1052, -2.8502, -2.8965, -2.6533, -1.6115, -3.5859, -2.9316, -3.4651, -3.9971, -3.8657, -3.4064, -2.9116, -4.096, -4.0991, -3.8213, -4.5599, -4.2036, -4.8343, -4.1172, -4.6375, -4.0844, -4.8633, -5.2246, -5.5426, -5.5632, -6.304, -6.1529, -6.4264, -6.1203, -2.1437, -2.4421, -2.3884, -2.6815, -3.0101, -2.2916, -3.1298, -3.4395, -2.2901, -3.9296, -4.0872, -3.677, -3.7175, -3.4514, -3.433, -3.9441, -4.086, -4.0888, -2.9761, -3.8622, -4.3497, -5.5331, -5.288, -5.337, -6.2836, -6.7917, -6.3672, -7.5653, -7.9296, -7.666, -7.9013, -1.0862, -2.251, -2.5763, -2.9073, -3.6792, -3.5098, -3.1033, -3.8163, -4.2256, -2.7666, -3.4312, -4.0584, -4.3966, -4.3391, -2.7125, -4.2055, -4.5935, -4.678, -4.4631, -4.2333, -5.0932, -5.8093, -5.9267, -5.7482, -5.9593, -6.1222, -5.8399, -7.492, -7.3908, -7.0422], \"loglift\": [30.0, 29.0, 28.0, 27.0, 26.0, 25.0, 24.0, 23.0, 22.0, 21.0, 20.0, 19.0, 18.0, 17.0, 16.0, 15.0, 14.0, 13.0, 12.0, 11.0, 10.0, 9.0, 8.0, 7.0, 6.0, 5.0, 4.0, 3.0, 2.0, 1.0, 1.3183, 1.0411, 0.9372, 0.8391, 0.7812, 0.7405, 0.6085, 0.4395, 0.261, 0.2181, 0.1483, 0.0578, 0.0156, -0.0886, -0.144, -0.2817, -0.3789, -0.5547, -2.3303, -2.5459, -2.7745, -2.818, -2.9843, -3.1782, -3.2989, -3.474, -3.7273, -3.7457, -3.8131, -3.9699, 1.4649, 1.4093, 0.9064, 0.8531, 0.6955, 0.482, 0.2858, 0.1814, 0.1108, 0.0275, -0.0225, -0.2001, -0.2326, -0.253, -0.4285, -0.4622, -0.6412, -1.4314, -1.5662, -1.7334, -2.0043, -2.0221, -2.3584, -2.4009, -2.7235, -2.7682, -3.0186, -3.0196, -3.5403, -3.547, 1.6058, 1.6037, 1.3489, 1.165, 1.1636, 0.5904, 0.3933, 0.1488, 0.0549, -0.1617, -0.2308, -0.2432, -0.3338, -0.4102, -0.5091, -0.5851, -0.6536, -0.6648, -0.8258, -0.8998, -1.0934, -1.1111, -1.1706, -1.2524, -1.7377, -2.0371, -2.2559, -2.3689, -2.5621, -3.3944, 1.6404, 1.5301, 1.4758, 1.3666, 0.9983, 0.6817, 0.675, 0.5396, 0.2877, 0.1318, 0.112, -0.1574, -0.1788, -0.2152, -0.2156, -0.2582, -0.2691, -0.5688, -0.7741, -1.1364, -1.2693, -1.6976, -1.7439, -1.747, -2.6487, -3.0991, -3.204, -3.659, -3.9737, -4.1398, -4.1924, 1.6396, 1.269, 0.9433, 0.6827, 0.3293, 0.3256, 0.1329, -0.0114, -0.1642, -0.1887, -0.2139, -0.3725, -0.4174, -0.4328, -0.5106, -0.5707, -0.6213, -0.6298, -0.9243, -1.0701, -1.4005, -1.9924, -2.1426, -2.222, -2.2504, -2.2579, -2.2958, -3.2928, -3.4349, -3.9618]}, \"token.table\": {\"Topic\": [1, 2, 3, 4, 5, 1, 2, 3, 4, 5, 1, 2, 3, 4, 5, 1, 2, 3, 4, 5, 2, 3, 4, 5, 1, 2, 3, 5, 1, 2, 3, 4, 5, 1, 2, 3, 4, 5, 1, 3, 4, 5, 1, 2, 3, 4, 5, 1, 2, 3, 4, 5, 1, 2, 3, 4, 5, 1, 2, 3, 4, 1, 2, 4, 5, 1, 2, 3, 4, 5, 1, 2, 3, 4, 1, 2, 3, 4, 5, 1, 2, 3, 5, 1, 2, 3, 4, 5, 2, 3, 4, 5, 2, 3, 4, 5, 1, 2, 3, 4, 5, 1, 2, 3, 4, 1, 2, 3, 4, 5, 1, 2, 3, 4, 5, 3, 5, 1, 2, 3, 4, 5, 2, 3, 4, 5, 1, 2, 3, 4, 5, 2, 3, 1, 2, 3, 4, 5], \"Freq\": [0.20037658435666275, 0.4315803355374275, 0.0770679170602549, 0.14642904241448432, 0.1387222507084588, 0.2476359472961232, 0.03301812630614976, 0.29716313675534783, 0.31367219990842277, 0.11556344207152416, 0.014142475908909987, 0.018856634545213316, 0.004714158636303329, 0.05656990363563995, 0.9004042995339359, 0.6643190493208558, 0.11680334933113949, 0.1533043959971206, 0.007300209333196218, 0.058401674665569746, 0.027165943148862285, 0.013582971574431143, 0.9236420670613177, 0.027165943148862285, 0.020989749732317046, 0.9340438630881085, 0.020989749732317046, 0.020989749732317046, 0.4913961222853834, 0.2456980611426917, 0.15209879975499963, 0.01169990767346151, 0.09359926138769208, 0.012396560689694395, 0.8801558089683019, 0.06198280344847197, 0.012396560689694395, 0.03718968206908318, 0.16999147985182295, 0.08499573992591147, 0.4929752915702865, 0.2379880717925521, 0.015706568276900434, 0.5340233214146147, 0.10994597793830303, 0.1413591144921039, 0.1963321034612554, 0.5420239257109336, 0.13816296145572818, 0.09565128100781181, 0.14879088156770726, 0.07439544078385363, 0.016394681982489206, 0.016394681982489206, 0.049184045947467614, 0.8361287811069494, 0.09836809189493523, 0.2150495788444044, 0.5040224504165728, 0.22849017752217968, 0.0537623947111011, 0.1355381962900541, 0.2606503774808732, 0.15639022648852394, 0.44831864926710197, 0.020860647266203895, 0.052151618165509735, 0.20860647266203894, 0.10430323633101947, 0.6258194179861168, 0.02057130595132605, 0.02057130595132605, 0.7611383201990639, 0.20571305951326052, 0.24009087135359666, 0.22054859112714112, 0.35176104407619974, 0.08375262954195233, 0.10608666408647294, 0.4297802630106059, 0.35303378747299774, 0.10744506575265148, 0.10744506575265148, 0.6032925143702906, 0.012312092130005932, 0.13543301343006525, 0.13543301343006525, 0.1231209213000593, 0.17687769276777698, 0.0176877692767777, 0.7075107710711079, 0.08843884638388849, 0.017924325942126614, 0.6273514079744315, 0.19716758536339274, 0.1433946075370129, 0.27736832671098577, 0.16642099602659147, 0.02773683267109858, 0.34671040838873224, 0.16642099602659147, 0.28981898073743956, 0.2837810853054095, 0.06641684975232989, 0.3562358304897694, 0.3049267223440653, 0.17075896451267655, 0.13823344746264293, 0.23987568824399802, 0.14636482672515133, 0.8761746339714124, 0.010685056511846492, 0.06411033907107895, 0.032055169535539475, 0.021370113023692985, 0.9701315054829467, 0.01259911046081749, 0.5147621412697687, 0.042896845105814055, 0.17158738042325622, 0.02859789673720937, 0.24308212226627965, 0.21054978635032293, 0.6316493590509688, 0.14036652423354862, 0.028073304846709723, 0.36915476709450107, 0.14542460521904588, 0.1118650809377276, 0.03355952428131828, 0.34678175090695557, 0.016128275966475265, 0.9676965579885158, 0.1618808628472215, 0.014716442077020138, 0.014716442077020138, 0.7799714300820673, 0.014716442077020138], \"Term\": [\"!\", \"!\", \"!\", \"!\", \"!\", \"&\", \"&\", \"&\", \"&\", \"&\", \",\", \",\", \",\", \",\", \",\", \"-\", \"-\", \"-\", \"-\", \"-\", \".\", \".\", \".\", \".\", \"/\", \"/\", \"/\", \"/\", \"1\", \"1\", \"1\", \"1\", \"1\", \"2\", \"2\", \"2\", \"2\", \"2\", \"and\", \"and\", \"and\", \"and\", \"apartment\", \"apartment\", \"apartment\", \"apartment\", \"apartment\", \"apt\", \"apt\", \"apt\", \"apt\", \"apt\", \"beautiful\", \"beautiful\", \"beautiful\", \"beautiful\", \"beautiful\", \"bedroom\", \"bedroom\", \"bedroom\", \"bedroom\", \"brooklyn\", \"brooklyn\", \"brooklyn\", \"brooklyn\", \"cozy\", \"cozy\", \"cozy\", \"cozy\", \"cozy\", \"east\", \"east\", \"east\", \"east\", \"in\", \"in\", \"in\", \"in\", \"in\", \"large\", \"large\", \"large\", \"large\", \"manhattan\", \"manhattan\", \"manhattan\", \"manhattan\", \"manhattan\", \"near\", \"near\", \"near\", \"near\", \"of\", \"of\", \"of\", \"of\", \"park\", \"park\", \"park\", \"park\", \"park\", \"private\", \"private\", \"private\", \"private\", \"room\", \"room\", \"room\", \"room\", \"room\", \"spacious\", \"spacious\", \"spacious\", \"spacious\", \"spacious\", \"studio\", \"studio\", \"sunny\", \"sunny\", \"sunny\", \"sunny\", \"sunny\", \"the\", \"the\", \"the\", \"the\", \"to\", \"to\", \"to\", \"to\", \"to\", \"williamsburg\", \"williamsburg\", \"with\", \"with\", \"with\", \"with\", \"with\"]}, \"R\": 30, \"lambda.step\": 0.01, \"plot.opts\": {\"xlab\": \"PC1\", \"ylab\": \"PC2\"}, \"topic.order\": [1, 5, 3, 4, 2]};\n",
       "\n",
       "function LDAvis_load_lib(url, callback){\n",
       "  var s = document.createElement('script');\n",
       "  s.src = url;\n",
       "  s.async = true;\n",
       "  s.onreadystatechange = s.onload = callback;\n",
       "  s.onerror = function(){console.warn(\"failed to load library \" + url);};\n",
       "  document.getElementsByTagName(\"head\")[0].appendChild(s);\n",
       "}\n",
       "\n",
       "if(typeof(LDAvis) !== \"undefined\"){\n",
       "   // already loaded: just create the visualization\n",
       "   !function(LDAvis){\n",
       "       new LDAvis(\"#\" + \"ldavis_el963854586980642504402512\", ldavis_el963854586980642504402512_data);\n",
       "   }(LDAvis);\n",
       "}else if(typeof define === \"function\" && define.amd){\n",
       "   // require.js is available: use it to load d3/LDAvis\n",
       "   require.config({paths: {d3: \"https://d3js.org/d3.v5\"}});\n",
       "   require([\"d3\"], function(d3){\n",
       "      window.d3 = d3;\n",
       "      LDAvis_load_lib(\"https://cdn.jsdelivr.net/gh/bmabey/pyLDAvis@3.4.0/pyLDAvis/js/ldavis.v3.0.0.js\", function(){\n",
       "        new LDAvis(\"#\" + \"ldavis_el963854586980642504402512\", ldavis_el963854586980642504402512_data);\n",
       "      });\n",
       "    });\n",
       "}else{\n",
       "    // require.js not available: dynamically load d3 & LDAvis\n",
       "    LDAvis_load_lib(\"https://d3js.org/d3.v5.js\", function(){\n",
       "         LDAvis_load_lib(\"https://cdn.jsdelivr.net/gh/bmabey/pyLDAvis@3.4.0/pyLDAvis/js/ldavis.v3.0.0.js\", function(){\n",
       "                 new LDAvis(\"#\" + \"ldavis_el963854586980642504402512\", ldavis_el963854586980642504402512_data);\n",
       "            })\n",
       "         });\n",
       "}\n",
       "</script>"
      ],
      "text/plain": [
       "<IPython.core.display.HTML object>"
      ]
     },
     "execution_count": 87,
     "metadata": {},
     "output_type": "execute_result"
    }
   ],
   "source": [
    "lda_display = gensimvis.prepare(ldamod, corpus_fromdict, text_raw_dict)\n",
    "pyLDAvis.display(lda_display)"
   ]
  },
  {
   "cell_type": "markdown",
   "metadata": {},
   "source": [
    "## 3.4 Activity 3\n",
    "\n",
    "- Preprocess the texts if you haven't already\n",
    "- Run the topic model with preprocessed texts\n",
    "- Play around with other parameters like `n_topics` to find a configuration that produces useful topics\n",
    "\n",
    "If you get stuck on the preprocessing part, you can use below function and example code for applying it. Then continue as above (start with tokenizing)."
   ]
  },
  {
   "cell_type": "code",
   "execution_count": null,
   "metadata": {},
   "outputs": [],
   "source": [
    "# your code here\n"
   ]
  },
  {
   "cell_type": "code",
   "execution_count": null,
   "metadata": {},
   "outputs": [],
   "source": [
    "# Hint: example code for preprocessing\n",
    "def processtext(row, colname):\n",
    "    \n",
    "    string_of_col = str(row[colname])\n",
    "    try:\n",
    "        processed_string = \" \".join([porter.stem(i.lower()) \n",
    "                        for i in wordpunct_tokenize(string_of_col) if \n",
    "                        i.lower().isalpha() and len(i) >=3]) #and i not in punctlist]) # optional: remove punctuation too \n",
    "        return(processed_string)\n",
    "    except:\n",
    "        processed_string = \"\" # to handle data errors where not actually text\n",
    "        return(processed_string)\n",
    "\n",
    "# ab_small['text_preprocess'] = ab_small.apply(processtext,\n",
    "#                             axis = 1,\n",
    "#                             args = [\"name_lower\"])\n",
    "#\n",
    "# ab_small = ab_small[ab_small.text_preprocess != \"\"].copy()\n",
    "#\n",
    "# ab_small.head()"
   ]
  }
 ],
 "metadata": {
  "kernelspec": {
   "display_name": "Python 3 (ipykernel)",
   "language": "python",
   "name": "python3"
  },
  "language_info": {
   "codemirror_mode": {
    "name": "ipython",
    "version": 3
   },
   "file_extension": ".py",
   "mimetype": "text/x-python",
   "name": "python",
   "nbconvert_exporter": "python",
   "pygments_lexer": "ipython3",
   "version": "3.11.7"
  }
 },
 "nbformat": 4,
 "nbformat_minor": 4
}
